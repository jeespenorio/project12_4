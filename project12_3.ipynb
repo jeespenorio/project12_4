{
 "cells": [
  {
   "cell_type": "code",
   "execution_count": 2,
   "id": "b30166a0-a881-4031-8271-2d698f87f9d6",
   "metadata": {
    "tags": []
   },
   "outputs": [
    {
     "name": "stdout",
     "output_type": "stream",
     "text": [
      "contents of file1.csv\n",
      "   SALES Column2   Column3 Column4 Column5 Column6\n",
      "0   DATE   CODES  PRODUCTS   UNITS     QTY   PRICE\n",
      "1  44792     A01       Pen     Box       2      15\n",
      "2  44792     A02  Notebook  Bundle       5      25\n",
      "3  44792     A03   Monitor     Box       5     185\n",
      "4  44792     A03   Monitor     Box       2     185\n",
      "contents of file2.csv\n",
      "  STOCKS INVENTORY   Column2 Column3   Column4 Column5 Column6 Column7 Column8\n",
      "0            CODES  PRODUCTS   UNITS  RECEIVED   SALES  STOCKS   PRICE   TOTAL\n",
      "1              A01       Pen     Box        10       2       8      15     150\n",
      "2              A02  Notebook  Bundle        20       5      15      25     500\n",
      "3              A03   Monitor     Box        10       7       3     185    1850\n"
     ]
    }
   ],
   "source": [
    "import pandas as pd\n",
    "\n",
    "df1 = pd.read_csv(r'C:\\Users\\jeespenorio\\Desktop\\project\\sales.csv')\n",
    "df2 = pd.read_csv(r'C:\\Users\\jeespenorio\\Desktop\\project\\inventory.csv')\n",
    "\n",
    "print(\"contents of file1.csv\")\n",
    "print(df1)\n",
    "\n",
    "print(\"contents of file2.csv\")\n",
    "print(df2)"
   ]
  },
  {
   "cell_type": "code",
   "execution_count": 7,
   "id": "9bfe5043-591f-4a47-8825-c12acb2b9f71",
   "metadata": {
    "tags": []
   },
   "outputs": [
    {
     "name": "stdout",
     "output_type": "stream",
     "text": [
      "Index(['SALES', 'Column2', 'Column3', 'Column4', 'Column5', 'Column6'], dtype='object')\n"
     ]
    }
   ],
   "source": [
    "import pandas as pd\n",
    "\n",
    "# Read the CSV file\n",
    "df1 = pd.read_csv(r'C:\\Users\\jeespenorio\\Desktop\\project\\sales.csv')\n",
    "\n",
    "# Display existing column names\n",
    "print(df1.columns)\n"
   ]
  },
  {
   "cell_type": "code",
   "execution_count": 9,
   "id": "20fabd1e-e7ca-4de4-90f4-4f3ed6222684",
   "metadata": {
    "tags": []
   },
   "outputs": [
    {
     "name": "stdout",
     "output_type": "stream",
     "text": [
      "Existing column names:\n",
      "Index(['SALES', 'Column2', 'Column3', 'Column4', 'Column5', 'Column6'], dtype='object')\n",
      "\n",
      "Updated column names:\n",
      "Index(['DATE', 'CODES', 'PRODUCTS', 'UNITS', 'QTY', 'PRICE'], dtype='object')\n"
     ]
    }
   ],
   "source": [
    "import pandas as pd\n",
    "\n",
    "# Read the CSV file\n",
    "df1 = pd.read_csv(r'C:\\Users\\jeespenorio\\Desktop\\project\\sales.csv')\n",
    "\n",
    "# Display existing column names\n",
    "print(\"Existing column names:\")\n",
    "print(df1.columns)\n",
    "\n",
    "# Rename columns to the desired names\n",
    "new_column_names = {\n",
    "    'Column1':'DATE',\n",
    "    'Column2': 'CODES',\n",
    "    'Column3': 'PRODUCTS',\n",
    "    'Column4': 'UNITS',\n",
    "    'Column5': 'QTY',\n",
    "    'Column6': 'PRICE'\n",
    "}\n",
    "\n",
    "# Rename columns in the DataFrame\n",
    "df1 = df1.rename(columns=new_column_names)\n",
    "\n",
    "# Display updated column names\n",
    "print(\"\\nUpdated column names:\")\n",
    "print(df1.columns)\n"
   ]
  },
  {
   "cell_type": "code",
   "execution_count": 12,
   "id": "300d819f-ad2f-43c9-8f0e-daeb3a6c9f98",
   "metadata": {
    "tags": []
   },
   "outputs": [
    {
     "data": {
      "text/html": [
       "<div>\n",
       "<style scoped>\n",
       "    .dataframe tbody tr th:only-of-type {\n",
       "        vertical-align: middle;\n",
       "    }\n",
       "\n",
       "    .dataframe tbody tr th {\n",
       "        vertical-align: top;\n",
       "    }\n",
       "\n",
       "    .dataframe thead th {\n",
       "        text-align: right;\n",
       "    }\n",
       "</style>\n",
       "<table border=\"1\" class=\"dataframe\">\n",
       "  <thead>\n",
       "    <tr style=\"text-align: right;\">\n",
       "      <th></th>\n",
       "      <th>SALES</th>\n",
       "      <th>Column2</th>\n",
       "      <th>Column3</th>\n",
       "      <th>Column4</th>\n",
       "      <th>Column5</th>\n",
       "      <th>Column6</th>\n",
       "    </tr>\n",
       "  </thead>\n",
       "  <tbody>\n",
       "  </tbody>\n",
       "</table>\n",
       "</div>"
      ],
      "text/plain": [
       "Empty DataFrame\n",
       "Columns: [SALES, Column2, Column3, Column4, Column5, Column6]\n",
       "Index: []"
      ]
     },
     "execution_count": 12,
     "metadata": {},
     "output_type": "execute_result"
    }
   ],
   "source": [
    "df1.head()"
   ]
  },
  {
   "cell_type": "code",
   "execution_count": 11,
   "id": "f087bd5d-f9a9-4081-976a-06b77ff4cb6c",
   "metadata": {
    "tags": []
   },
   "outputs": [
    {
     "name": "stdout",
     "output_type": "stream",
     "text": [
      "DataFrame before removing rows:\n",
      "   SALES Column2   Column3 Column4 Column5 Column6\n",
      "0   DATE   CODES  PRODUCTS   UNITS     QTY   PRICE\n",
      "1  44792     A01       Pen     Box       2      15\n",
      "2  44792     A02  Notebook  Bundle       5      25\n",
      "3  44792     A03   Monitor     Box       5     185\n",
      "4  44792     A03   Monitor     Box       2     185\n",
      "\n",
      "DataFrame after removing rows 0 to 4:\n",
      "Empty DataFrame\n",
      "Columns: [SALES, Column2, Column3, Column4, Column5, Column6]\n",
      "Index: []\n"
     ]
    }
   ],
   "source": [
    "import pandas as pd\n",
    "\n",
    "# Read the CSV file\n",
    "df1 = pd.read_csv(r'C:\\Users\\jeespenorio\\Desktop\\project\\sales.csv')\n",
    "\n",
    "# Display the DataFrame before removing rows\n",
    "print(\"DataFrame before removing rows:\")\n",
    "print(df1)\n",
    "\n",
    "# Remove rows from index 0 to index 4\n",
    "df1 = df1.drop(index=range(0, 5))\n",
    "\n",
    "# Display the DataFrame after removing rows\n",
    "print(\"\\nDataFrame after removing rows 0 to 4:\")\n",
    "print(df1)\n"
   ]
  },
  {
   "cell_type": "code",
   "execution_count": 13,
   "id": "f74e3c70-4c64-4f55-823a-10546beabc8b",
   "metadata": {
    "tags": []
   },
   "outputs": [
    {
     "name": "stdout",
     "output_type": "stream",
     "text": [
      "Existing column names:\n",
      "Index(['SALES', 'Column2', 'Column3', 'Column4', 'Column5', 'Column6'], dtype='object')\n",
      "\n",
      "Updated column names:\n",
      "Index(['DATE', 'CODES', 'PRODUCTS', 'UNITS', 'QTY', 'PRICE'], dtype='object')\n"
     ]
    }
   ],
   "source": [
    "import pandas as pd\n",
    "\n",
    "# Read the CSV file\n",
    "df1 = pd.read_csv(r'C:\\Users\\jeespenorio\\Desktop\\project\\sales.csv')\n",
    "\n",
    "# Display existing column names\n",
    "print(\"Existing column names:\")\n",
    "print(df1.columns)\n",
    "\n",
    "# Rename columns to the desired names\n",
    "new_column_names = {\n",
    "    'SALES': 'DATE',\n",
    "    'Column2': 'CODES',\n",
    "    'Column3': 'PRODUCTS',\n",
    "    'Column4': 'UNITS',\n",
    "    'Column5': 'QTY',\n",
    "    'Column6': 'PRICE'\n",
    "}\n",
    "\n",
    "# Rename columns in the DataFrame\n",
    "df1 = df1.rename(columns=new_column_names)\n",
    "\n",
    "# Display updated column names\n",
    "print(\"\\nUpdated column names:\")\n",
    "print(df1.columns)\n"
   ]
  },
  {
   "cell_type": "code",
   "execution_count": 15,
   "id": "1ffaa74a-c69f-42cb-85e4-7273376b8d59",
   "metadata": {
    "tags": []
   },
   "outputs": [
    {
     "data": {
      "text/html": [
       "<div>\n",
       "<style scoped>\n",
       "    .dataframe tbody tr th:only-of-type {\n",
       "        vertical-align: middle;\n",
       "    }\n",
       "\n",
       "    .dataframe tbody tr th {\n",
       "        vertical-align: top;\n",
       "    }\n",
       "\n",
       "    .dataframe thead th {\n",
       "        text-align: right;\n",
       "    }\n",
       "</style>\n",
       "<table border=\"1\" class=\"dataframe\">\n",
       "  <thead>\n",
       "    <tr style=\"text-align: right;\">\n",
       "      <th></th>\n",
       "      <th>DATE</th>\n",
       "      <th>CODES</th>\n",
       "      <th>PRODUCTS</th>\n",
       "      <th>UNITS</th>\n",
       "      <th>QTY</th>\n",
       "      <th>PRICE</th>\n",
       "    </tr>\n",
       "  </thead>\n",
       "  <tbody>\n",
       "  </tbody>\n",
       "</table>\n",
       "</div>"
      ],
      "text/plain": [
       "Empty DataFrame\n",
       "Columns: [DATE, CODES, PRODUCTS, UNITS, QTY, PRICE]\n",
       "Index: []"
      ]
     },
     "execution_count": 15,
     "metadata": {},
     "output_type": "execute_result"
    }
   ],
   "source": [
    "df1 = df1.drop(index=range(0, 5))\n",
    "df1.head()"
   ]
  },
  {
   "cell_type": "code",
   "execution_count": 16,
   "id": "90f83d0c-f021-418f-91bf-bcd658cd6b46",
   "metadata": {
    "tags": []
   },
   "outputs": [
    {
     "name": "stdout",
     "output_type": "stream",
     "text": [
      "contents of file1.csv\n",
      "Empty DataFrame\n",
      "Columns: [DATE, CODES, PRODUCTS, UNITS, QTY, PRICE]\n",
      "Index: []\n",
      "contents of file2.csv\n",
      "  STOCKS INVENTORY   Column2 Column3   Column4 Column5 Column6 Column7 Column8\n",
      "0            CODES  PRODUCTS   UNITS  RECEIVED   SALES  STOCKS   PRICE   TOTAL\n",
      "1              A01       Pen     Box        10       2       8      15     150\n",
      "2              A02  Notebook  Bundle        20       5      15      25     500\n",
      "3              A03   Monitor     Box        10       7       3     185    1850\n"
     ]
    }
   ],
   "source": [
    "import pandas as pd\n",
    "\n",
    "#df1 = pd.read_csv(r'C:\\Users\\jeespenorio\\Desktop\\project\\sales.csv')\n",
    "df2 = pd.read_csv(r'C:\\Users\\jeespenorio\\Desktop\\project\\inventory.csv')\n",
    "\n",
    "print(\"contents of file1.csv\")\n",
    "print(df1)\n",
    "\n",
    "print(\"contents of file2.csv\")\n",
    "print(df2)"
   ]
  },
  {
   "cell_type": "code",
   "execution_count": 4,
   "id": "de9456b1-92b2-4133-b2fa-bd1bb5ae14a2",
   "metadata": {
    "tags": []
   },
   "outputs": [
    {
     "name": "stdout",
     "output_type": "stream",
     "text": [
      "Contents of df1:\n",
      "Empty DataFrame\n",
      "Columns: []\n",
      "Index: []\n",
      "\n",
      "Contents of df2 with headers from the first row:\n",
      "  STOCKS INVENTORY   Column2 Column3   Column4 Column5 Column6 Column7 Column8\n",
      "0            CODES  PRODUCTS   UNITS  RECEIVED   SALES  STOCKS   PRICE   TOTAL\n",
      "1              A01       Pen     Box        10       2       8      15     150\n",
      "2              A02  Notebook  Bundle        20       5      15      25     500\n",
      "3              A03   Monitor     Box        10       7       3     185    1850\n"
     ]
    }
   ],
   "source": [
    "import pandas as pd\n",
    "\n",
    "# Read the CSV file with the first row as headers\n",
    "df2 = pd.read_csv(r'C:\\Users\\jeespenorio\\Desktop\\project\\inventory.csv', header=0)\n",
    "\n",
    "# Assuming df1 is also initialized\n",
    "df1 = pd.DataFrame()  # Initialize an empty DataFrame or read another file into df1\n",
    "\n",
    "# Copy 'CODES' column from df2 to df1\n",
    "# df1['CODES'] = df2['CODES']\n",
    "\n",
    "# Display df1 to verify the changes\n",
    "print(\"Contents of df1:\")\n",
    "print(df1)\n",
    "\n",
    "print(\"\\nContents of df2 with headers from the first row:\")\n",
    "print(df2)\n"
   ]
  },
  {
   "cell_type": "code",
   "execution_count": 6,
   "id": "3c091ce2-7681-4c7d-93ab-d949d65d16af",
   "metadata": {},
   "outputs": [
    {
     "name": "stdout",
     "output_type": "stream",
     "text": [
      "Contents of df2 with headers from the first row:\n",
      "  STOCKS INVENTORY   Column2 Column3   Column4 Column5 Column6 Column7 Column8\n",
      "0            CODES  PRODUCTS   UNITS  RECEIVED   SALES  STOCKS   PRICE   TOTAL\n",
      "1              A01       Pen     Box        10       2       8      15     150\n",
      "2              A02  Notebook  Bundle        20       5      15      25     500\n",
      "3              A03   Monitor     Box        10       7       3     185    1850\n",
      "Contents of df2 with headers from the second row:\n",
      "  CODES  PRODUCTS   UNITS  RECEIVED  SALES  STOCKS  PRICE  TOTAL\n",
      "0   A01       Pen     Box        10      2       8     15    150\n",
      "1   A02  Notebook  Bundle        20      5      15     25    500\n",
      "2   A03   Monitor     Box        10      7       3    185   1850\n"
     ]
    }
   ],
   "source": [
    "import pandas as pd\n",
    "\n",
    "# Read the CSV file with the first row as headers\n",
    "df2 = pd.read_csv(r'C:\\Users\\jeespenorio\\Desktop\\project\\inventory.csv', header=0)\n",
    "\n",
    "# Display df2 with headers from the first row\n",
    "print(\"Contents of df2 with headers from the first row:\")\n",
    "print(df2)\n",
    "\n",
    "# Read the CSV file with the second row as headers\n",
    "test = pd.read_csv(r'C:\\Users\\jeespenorio\\Desktop\\project\\inventory.csv', header=1)\n",
    "\n",
    "# Display df2 with headers from the second row\n",
    "print(\"Contents of df2 with headers from the second row:\")\n",
    "print(test)\n",
    "\n"
   ]
  },
  {
   "cell_type": "code",
   "execution_count": 11,
   "id": "f10041b5-c747-4e88-a141-aba14c6d25d5",
   "metadata": {
    "tags": []
   },
   "outputs": [
    {
     "name": "stdout",
     "output_type": "stream",
     "text": [
      "Contents of df3 with renamed columns:\n",
      "  DATE CODES PRODUCTS UNITS QTY PRICE Column7 Column8\n",
      "0  A01   Pen      Box    10   2     8      15     150\n"
     ]
    }
   ],
   "source": [
    "import pandas as pd\n",
    "\n",
    "# Assuming df2 is your DataFrame\n",
    "# Read the CSV file with the first row as headers into df2\n",
    "df2 = pd.read_csv(r'C:\\Users\\jeespenorio\\Desktop\\project\\inventory.csv', header=0)\n",
    "\n",
    "# Define a dictionary mapping old column names to new column names\n",
    "new_column_names = {\n",
    "    'STOCKS INVENTORY':'DATE',\n",
    "    'Column2': 'CODES',\n",
    "    'Column3': 'PRODUCTS',\n",
    "    'Column4': 'UNITS',\n",
    "    'Column5': 'QTY',\n",
    "    'Column6': 'PRICE'\n",
    "}\n",
    "\n",
    "# Rename columns in df2 using the new_column_names dictionary\n",
    "df3 = df3.rename(columns=new_column_names)\n",
    "\n",
    "# Display df2 with renamed columns\n",
    "print(\"Contents of df3 with renamed columns:\")\n",
    "print(df3)\n"
   ]
  },
  {
   "cell_type": "code",
   "execution_count": 14,
   "id": "d3ece9b9-e231-41ae-953b-37bf0ac6240b",
   "metadata": {
    "tags": []
   },
   "outputs": [
    {
     "name": "stdout",
     "output_type": "stream",
     "text": [
      "Contents of df3 with only the column headers:\n",
      "  STOCKS INVENTORY   Column2 Column3   Column4 Column5 Column6 Column7 Column8\n",
      "0            CODES  PRODUCTS   UNITS  RECEIVED   SALES  STOCKS   PRICE   TOTAL\n"
     ]
    }
   ],
   "source": [
    "import pandas as pd\n",
    "\n",
    "# Read the CSV file with the first row as headers into df2\n",
    "df2 = pd.read_csv(r'C:\\Users\\jeespenorio\\Desktop\\project\\inventory.csv', header=0)\n",
    "\n",
    "# Remove the second row from df2 and set the first row as column names\n",
    "df3 = pd.DataFrame(df3.values[1:], columns=df3.iloc[0])\n",
    "\n",
    "# Reset index after removing the second row\n",
    "df3.reset_index(drop=True, inplace=True)\n",
    "\n",
    "# Display df3 without the second row and with the renamed columns\n",
    "print(\"Contents of df3 without the second row and with renamed columns:\")\n",
    "print(df3)\n"
   ]
  },
  {
   "cell_type": "code",
   "execution_count": 15,
   "id": "7254fe48-6d5f-4ed6-93f3-f565e24c7d05",
   "metadata": {
    "tags": []
   },
   "outputs": [
    {
     "name": "stdout",
     "output_type": "stream",
     "text": [
      "Contents of df3 with only the column headers:\n",
      "  STOCKS INVENTORY   Column2 Column3   Column4 Column5 Column6 Column7 Column8\n",
      "0            CODES  PRODUCTS   UNITS  RECEIVED   SALES  STOCKS   PRICE   TOTAL\n"
     ]
    }
   ],
   "source": [
    "import pandas as pd\n",
    "\n",
    "# Read the CSV file with the first row as headers into df2\n",
    "df2 = pd.read_csv(r'C:\\Users\\jeespenorio\\Desktop\\project\\inventory.csv', header=0)\n",
    "\n",
    "# Create a new DataFrame with only the first row (column headers)\n",
    "df3 = df2.iloc[[0]]  # Select the first row\n",
    "\n",
    "# Display df3 containing only the column headers\n",
    "print(\"Contents of df3 with only the column headers:\")\n",
    "print(df3)\n"
   ]
  },
  {
   "cell_type": "code",
   "execution_count": 2,
   "id": "55a85163-fe4b-463a-9ac9-2fb62d8cedd7",
   "metadata": {},
   "outputs": [
    {
     "name": "stdout",
     "output_type": "stream",
     "text": [
      "Contents of df1:\n",
      "   A  B  C\n",
      "0  1  4  7\n",
      "1  2  5  8\n",
      "2  3  6  9\n",
      "\n",
      "Contents of df2:\n",
      "    B   C   D\n",
      "0  10  13  16\n",
      "1  11  14  17\n",
      "2  12  15  18\n",
      "\n",
      "Contents of df3:\n",
      "    A   C   D\n",
      "0  19  22  25\n",
      "1  20  23  26\n",
      "2  21  24  27\n",
      "\n",
      "Contents of df3 with added columns from df2 (with suffix):\n",
      "    A   C   D  C_from_df2  D_from_df2\n",
      "0  19  22  25          13          16\n",
      "1  20  23  26          14          17\n",
      "2  21  24  27          15          18\n"
     ]
    }
   ],
   "source": [
    "import pandas as pd\n",
    "\n",
    "# Example DataFrames (Synthetic Data)\n",
    "data1 = {\n",
    "    'A': [1, 2, 3],\n",
    "    'B': [4, 5, 6],\n",
    "    'C': [7, 8, 9]\n",
    "}\n",
    "\n",
    "data2 = {\n",
    "    'B': [10, 11, 12],\n",
    "    'C': [13, 14, 15],\n",
    "    'D': [16, 17, 18]\n",
    "}\n",
    "\n",
    "data3 = {\n",
    "    'A': [19, 20, 21],\n",
    "    'C': [22, 23, 24],\n",
    "    'D': [25, 26, 27]\n",
    "}\n",
    "\n",
    "df1 = pd.DataFrame(data1)\n",
    "df2 = pd.DataFrame(data2)\n",
    "df3 = pd.DataFrame(data3)\n",
    "\n",
    "# Displaying contents of df1, df2, and df3\n",
    "print(\"Contents of df1:\")\n",
    "print(df1)\n",
    "\n",
    "print(\"\\nContents of df2:\")\n",
    "print(df2)\n",
    "\n",
    "print(\"\\nContents of df3:\")\n",
    "print(df3)\n",
    "\n",
    "# Identify common columns between df2 and df3\n",
    "common_columns = df2.columns.intersection(df3.columns)\n",
    "\n",
    "# Select columns from df2 that are present in df3\n",
    "df2_common = df2[common_columns]\n",
    "\n",
    "# Join columns from df2_common to df3 with a suffix for overlap\n",
    "df3 = df3.join(df2_common, rsuffix='_from_df2')\n",
    "\n",
    "# Display contents of df3 with added columns from df2\n",
    "print(\"\\nContents of df3 with added columns from df2 (with suffix):\")\n",
    "print(df3)\n"
   ]
  },
  {
   "cell_type": "code",
   "execution_count": 4,
   "id": "6feedf52-5b28-4fee-ae97-f54a31a3e9b2",
   "metadata": {
    "tags": []
   },
   "outputs": [
    {
     "name": "stdout",
     "output_type": "stream",
     "text": [
      "Contents of df1:\n",
      "   A  B  C\n",
      "0  1  4  7\n",
      "1  2  5  8\n",
      "2  3  6  9\n",
      "\n",
      "Contents of df2:\n",
      "    B   C   D\n",
      "0  10  13  16\n",
      "1  11  14  17\n",
      "2  12  15  18\n",
      "\n",
      "Contents of df3:\n",
      "    A   C   D\n",
      "0  19  22  25\n",
      "1  20  23  26\n",
      "2  21  24  27\n",
      "\n",
      "Contents of df3 with added columns from df2 (including column 'B' from df2):\n",
      "    A   C   D  C_from_df2  D_from_df2  B_from_df2\n",
      "0  19  22  25          13          16          10\n",
      "1  20  23  26          14          17          11\n",
      "2  21  24  27          15          18          12\n"
     ]
    }
   ],
   "source": [
    "import pandas as pd\n",
    "\n",
    "# Example DataFrames (Synthetic Data)\n",
    "data1 = {\n",
    "    'A': [1, 2, 3],\n",
    "    'B': [4, 5, 6],\n",
    "    'C': [7, 8, 9]\n",
    "}\n",
    "\n",
    "data2 = {\n",
    "    'B': [10, 11, 12],\n",
    "    'C': [13, 14, 15],\n",
    "    'D': [16, 17, 18]\n",
    "}\n",
    "\n",
    "data3 = {\n",
    "    'A': [19, 20, 21],\n",
    "    'C': [22, 23, 24],\n",
    "    'D': [25, 26, 27]\n",
    "}\n",
    "\n",
    "df1 = pd.DataFrame(data1)\n",
    "df2 = pd.DataFrame(data2)\n",
    "df3 = pd.DataFrame(data3)\n",
    "\n",
    "# Displaying contents of df1, df2, and df3\n",
    "print(\"Contents of df1:\")\n",
    "print(df1)\n",
    "\n",
    "print(\"\\nContents of df2:\")\n",
    "print(df2)\n",
    "\n",
    "print(\"\\nContents of df3:\")\n",
    "print(df3)\n",
    "\n",
    "# Identify common columns between df2 and df3\n",
    "common_columns = df2.columns.intersection(df3.columns)\n",
    "\n",
    "# Select columns from df2 that are present in df3\n",
    "df2_common = df2[common_columns]\n",
    "\n",
    "# Join columns from df2_common to df3 with a suffix for overlap\n",
    "df3 = df3.join(df2_common, rsuffix='_from_df2')\n",
    "\n",
    "# Include content of column 'B' from df2 in df3\n",
    "df3['B_from_df2'] = df2['B']\n",
    "\n",
    "# Display contents of df3 with added columns from df2\n",
    "print(\"\\nContents of df3 with added columns from df2 (including column 'B' from df2):\")\n",
    "print(df3)\n"
   ]
  },
  {
   "cell_type": "code",
   "execution_count": null,
   "id": "bb7bef54-d9b9-49c9-97bc-4b054cbbb420",
   "metadata": {},
   "outputs": [],
   "source": []
  }
 ],
 "metadata": {
  "kernelspec": {
   "display_name": "Python 3 (ipykernel)",
   "language": "python",
   "name": "python3"
  },
  "language_info": {
   "codemirror_mode": {
    "name": "ipython",
    "version": 3
   },
   "file_extension": ".py",
   "mimetype": "text/x-python",
   "name": "python",
   "nbconvert_exporter": "python",
   "pygments_lexer": "ipython3",
   "version": "3.11.4"
  }
 },
 "nbformat": 4,
 "nbformat_minor": 5
}
