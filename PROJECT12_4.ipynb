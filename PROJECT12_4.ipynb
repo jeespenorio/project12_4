{
 "cells": [
  {
   "cell_type": "code",
   "execution_count": 23,
   "id": "2d1f5768-b776-4026-bd4a-96900a21ab17",
   "metadata": {
    "tags": []
   },
   "outputs": [
    {
     "name": "stdout",
     "output_type": "stream",
     "text": [
      "contents of file1.csv\n",
      "    DATE CODES  PRODUCTS   UNITS  QTY  PRICE\n",
      "0  44792   A01       Pen     Box    2     15\n",
      "1  44792   A02  Notebook  Bundle    5     25\n",
      "2  44792   A03   Monitor     Box    5    185\n",
      "3  44792   A03   Monitor     Box    2    185\n",
      "contents of file2.csv\n",
      "  CODES  PRODUCTS   UNITS  RECEIVED  SALES  STOCKS  PRICE  TOTAL\n",
      "0   A01       Pen     Box        10      2       8     15    150\n",
      "1   A02  Notebook  Bundle        20      5      15     25    500\n",
      "2   A03   Monitor     Box        10      7       3    185   1850\n"
     ]
    }
   ],
   "source": [
    "import pandas as pd\n",
    "\n",
    "df1 = pd.read_excel(r'C:\\Users\\jeespenorio\\Desktop\\project\\TESTsales.xlsx')\n",
    "df2 = pd.read_excel(r'C:\\Users\\jeespenorio\\Desktop\\project\\TESTinventory.xlsx')\n",
    "#df3 = pd.read_excel(r'C:\\Users\\jeespenorio\\Desktop\\project\\DF3.xlsx')\n",
    "\n",
    "print(\"contents of file1.csv\")\n",
    "print(df1)\n",
    "\n",
    "print(\"contents of file2.csv\")\n",
    "print(df2)\n",
    "\n"
   ]
  },
  {
   "cell_type": "code",
   "execution_count": 24,
   "id": "8d2f56f7-1937-46f1-b8a8-3b26651f9158",
   "metadata": {
    "tags": []
   },
   "outputs": [
    {
     "name": "stdout",
     "output_type": "stream",
     "text": [
      "contents of file1.csv\n",
      "    DATE CODES  PRODUCTS   UNITS  QTY  PRICE\n",
      "0  44792   A01       Pen     Box    2     15\n",
      "1  44792   A02  Notebook  Bundle    5     25\n",
      "2  44792   A03   Monitor     Box    5    185\n",
      "3  44792   A03   Monitor     Box    2    185\n",
      "contents of file2.csv\n",
      "  CODES  PRODUCTS   UNITS  RECEIVED  SALES  STOCKS  PRICE  TOTAL\n",
      "0   A01       Pen     Box        10      2       8     15    150\n",
      "1   A02  Notebook  Bundle        20      5      15     25    500\n",
      "2   A03   Monitor     Box        10      7       3    185   1850\n",
      "contents of file3.csv\n",
      "Empty DataFrame\n",
      "Columns: [DATE, CODES, PRODUCTS, UNITS, QTY, PRICE]\n",
      "Index: []\n"
     ]
    }
   ],
   "source": [
    "import pandas as pd\n",
    "\n",
    "df1 = pd.read_excel(r'C:\\Users\\jeespenorio\\Desktop\\project\\TESTsales.xlsx')\n",
    "df2 = pd.read_excel(r'C:\\Users\\jeespenorio\\Desktop\\project\\TESTinventory.xlsx')\n",
    "df3 = pd.read_excel(r'C:\\Users\\jeespenorio\\Desktop\\project\\DF3.xlsx')\n",
    "\n",
    "print(\"contents of file1.csv\")\n",
    "print(df1)\n",
    "\n",
    "print(\"contents of file2.csv\")\n",
    "print(df2)\n",
    "\n",
    "print(\"contents of file3.csv\")\n",
    "print(df3)"
   ]
  },
  {
   "cell_type": "code",
   "execution_count": 7,
   "id": "085a2a6d-5d3f-4b0e-9ee8-f63b8c2a0b3a",
   "metadata": {
    "tags": []
   },
   "outputs": [
    {
     "name": "stdout",
     "output_type": "stream",
     "text": [
      "contents of SALES | file1.csv\n",
      "    DATE CODES  PRODUCTS   UNITS  QTY  PRICE\n",
      "0  44792   A01       Pen     Box    2     15\n",
      "1  44792   A02  Notebook  Bundle    5     25\n",
      "2  44792   A03   Monitor     Box    5    185\n",
      "3  44792   A03   Monitor     Box    2    185\n",
      "contents of Iventory | file2.csv\n",
      "  CODES  PRODUCTS   UNITS  RECEIVED  SALES  STOCKS  PRICE  TOTAL\n",
      "0   A01       Pen     Box        10      2       8     15    150\n",
      "1   A02  Notebook  Bundle        20      5      15     25    500\n",
      "2   A03   Monitor     Box        10      7       3    185   1850\n",
      "Contents of file3.csv after copying the columns:\n",
      "    DATE CODES  PRODUCTS   UNITS  QTY  PRICE\n",
      "0  44792   A01       Pen     Box    2     15\n",
      "1  44792   A02  Notebook  Bundle    5     25\n",
      "2  44792   A03   Monitor     Box    5    185\n",
      "3  44792   A03   Monitor     Box    2    185\n"
     ]
    }
   ],
   "source": [
    "import pandas as pd\n",
    "\n",
    "df1 = pd.read_excel(r'C:\\Users\\jeespenorio\\Desktop\\project\\TESTsales.xlsx')\n",
    "df2 = pd.read_excel(r'C:\\Users\\jeespenorio\\Desktop\\project\\TESTinventory.xlsx')\n",
    "df3 = pd.read_excel(r'C:\\Users\\jeespenorio\\Desktop\\project\\DF3.xlsx')\n",
    "\n",
    "print(\"contents of SALES | file1.csv\")\n",
    "print(df1)\n",
    "\n",
    "print(\"contents of Iventory | file2.csv\")\n",
    "print(df2)\n",
    "\n",
    "\n",
    "\n",
    "# Copy 'DATE' column from df1 to df3\n",
    "df3['DATE'] = df1['DATE']\n",
    "df3['CODES'] = df1['CODES']\n",
    "df3['PRODUCTS'] = df1['PRODUCTS']\n",
    "df3['UNITS'] = df1['UNITS']\n",
    "df3['QTY'] = df1['QTY']\n",
    "df3['PRICE'] = df1['PRICE']\n",
    "\n",
    "# Display contents of df3\n",
    "print(\"Contents of file3.csv after copying the columns:\")\n",
    "print(df3)"
   ]
  },
  {
   "cell_type": "code",
   "execution_count": 8,
   "id": "11f97a4f-bff4-4da6-a2f3-74bef28d1311",
   "metadata": {
    "tags": []
   },
   "outputs": [
    {
     "data": {
      "text/html": [
       "<div>\n",
       "<style scoped>\n",
       "    .dataframe tbody tr th:only-of-type {\n",
       "        vertical-align: middle;\n",
       "    }\n",
       "\n",
       "    .dataframe tbody tr th {\n",
       "        vertical-align: top;\n",
       "    }\n",
       "\n",
       "    .dataframe thead th {\n",
       "        text-align: right;\n",
       "    }\n",
       "</style>\n",
       "<table border=\"1\" class=\"dataframe\">\n",
       "  <thead>\n",
       "    <tr style=\"text-align: right;\">\n",
       "      <th></th>\n",
       "      <th>DATE</th>\n",
       "      <th>CODES</th>\n",
       "      <th>PRODUCTS</th>\n",
       "      <th>UNITS</th>\n",
       "      <th>QTY</th>\n",
       "      <th>PRICE</th>\n",
       "    </tr>\n",
       "  </thead>\n",
       "  <tbody>\n",
       "    <tr>\n",
       "      <th>0</th>\n",
       "      <td>44792</td>\n",
       "      <td>A01</td>\n",
       "      <td>Pen</td>\n",
       "      <td>Box</td>\n",
       "      <td>2</td>\n",
       "      <td>15</td>\n",
       "    </tr>\n",
       "    <tr>\n",
       "      <th>1</th>\n",
       "      <td>44792</td>\n",
       "      <td>A02</td>\n",
       "      <td>Notebook</td>\n",
       "      <td>Bundle</td>\n",
       "      <td>5</td>\n",
       "      <td>25</td>\n",
       "    </tr>\n",
       "    <tr>\n",
       "      <th>2</th>\n",
       "      <td>44792</td>\n",
       "      <td>A03</td>\n",
       "      <td>Monitor</td>\n",
       "      <td>Box</td>\n",
       "      <td>5</td>\n",
       "      <td>185</td>\n",
       "    </tr>\n",
       "    <tr>\n",
       "      <th>3</th>\n",
       "      <td>44792</td>\n",
       "      <td>A03</td>\n",
       "      <td>Monitor</td>\n",
       "      <td>Box</td>\n",
       "      <td>2</td>\n",
       "      <td>185</td>\n",
       "    </tr>\n",
       "  </tbody>\n",
       "</table>\n",
       "</div>"
      ],
      "text/plain": [
       "    DATE CODES  PRODUCTS   UNITS  QTY  PRICE\n",
       "0  44792   A01       Pen     Box    2     15\n",
       "1  44792   A02  Notebook  Bundle    5     25\n",
       "2  44792   A03   Monitor     Box    5    185\n",
       "3  44792   A03   Monitor     Box    2    185"
      ]
     },
     "execution_count": 8,
     "metadata": {},
     "output_type": "execute_result"
    }
   ],
   "source": [
    "df3.head()"
   ]
  },
  {
   "cell_type": "code",
   "execution_count": 9,
   "id": "0b4be922-7904-4a8d-993a-872ddf1e73df",
   "metadata": {},
   "outputs": [
    {
     "name": "stdout",
     "output_type": "stream",
     "text": [
      "contents of SALES | file1.csv\n",
      "    DATE CODES  PRODUCTS   UNITS  QTY  PRICE\n",
      "0  44792   A01       Pen     Box    2     15\n",
      "1  44792   A02  Notebook  Bundle    5     25\n",
      "2  44792   A03   Monitor     Box    5    185\n",
      "3  44792   A03   Monitor     Box    2    185\n",
      "contents of Iventory | file2.csv\n",
      "  CODES  PRODUCTS   UNITS  RECEIVED  SALES  STOCKS  PRICE  TOTAL\n",
      "0   A01       Pen     Box        10      2       8     15    150\n",
      "1   A02  Notebook  Bundle        20      5      15     25    500\n",
      "2   A03   Monitor     Box        10      7       3    185   1850\n",
      "Contents of file3.csv after copying the columns:\n",
      "    DATE CODES  PRODUCTS   UNITS  QTY  PRICE  STOCKS\n",
      "0  44792   A01       Pen     Box    2     15     8.0\n",
      "1  44792   A02  Notebook  Bundle    5     25    15.0\n",
      "2  44792   A03   Monitor     Box    5    185     3.0\n",
      "3  44792   A03   Monitor     Box    2    185     NaN\n"
     ]
    }
   ],
   "source": [
    "import pandas as pd\n",
    "\n",
    "df1 = pd.read_excel(r'C:\\Users\\jeespenorio\\Desktop\\project\\TESTsales.xlsx')\n",
    "df2 = pd.read_excel(r'C:\\Users\\jeespenorio\\Desktop\\project\\TESTinventory.xlsx')\n",
    "df3 = pd.read_excel(r'C:\\Users\\jeespenorio\\Desktop\\project\\DF3.xlsx')\n",
    "\n",
    "print(\"contents of SALES | file1.csv\")\n",
    "print(df1)\n",
    "\n",
    "print(\"contents of Iventory | file2.csv\")\n",
    "print(df2)\n",
    "\n",
    "\n",
    "\n",
    "# Copy 'DATE' column from df1 to df3\n",
    "df3['DATE'] = df1['DATE']\n",
    "df3['CODES'] = df1['CODES']\n",
    "df3['PRODUCTS'] = df1['PRODUCTS']\n",
    "df3['UNITS'] = df1['UNITS']\n",
    "df3['QTY'] = df1['QTY']\n",
    "df3['PRICE'] = df1['PRICE']\n",
    "\n",
    "# Identify common columns between df2 and df3\n",
    "common_columns = df2.columns.intersection(df3.columns)\n",
    "\n",
    "# Include content of column 'B' from df2 in df3\n",
    "df3['STOCKS'] = df2['STOCKS']\n",
    "\n",
    "# Display contents of df3\n",
    "print(\"Contents of file3.csv after copying the columns:\")\n",
    "print(df3)"
   ]
  },
  {
   "cell_type": "code",
   "execution_count": 10,
   "id": "0033073b-f5e9-43b6-85b9-62c6ee14829b",
   "metadata": {
    "tags": []
   },
   "outputs": [
    {
     "data": {
      "text/html": [
       "<div>\n",
       "<style scoped>\n",
       "    .dataframe tbody tr th:only-of-type {\n",
       "        vertical-align: middle;\n",
       "    }\n",
       "\n",
       "    .dataframe tbody tr th {\n",
       "        vertical-align: top;\n",
       "    }\n",
       "\n",
       "    .dataframe thead th {\n",
       "        text-align: right;\n",
       "    }\n",
       "</style>\n",
       "<table border=\"1\" class=\"dataframe\">\n",
       "  <thead>\n",
       "    <tr style=\"text-align: right;\">\n",
       "      <th></th>\n",
       "      <th>DATE</th>\n",
       "      <th>CODES</th>\n",
       "      <th>PRODUCTS</th>\n",
       "      <th>UNITS</th>\n",
       "      <th>QTY</th>\n",
       "      <th>PRICE</th>\n",
       "      <th>STOCKS</th>\n",
       "    </tr>\n",
       "  </thead>\n",
       "  <tbody>\n",
       "    <tr>\n",
       "      <th>0</th>\n",
       "      <td>44792</td>\n",
       "      <td>A01</td>\n",
       "      <td>Pen</td>\n",
       "      <td>Box</td>\n",
       "      <td>2</td>\n",
       "      <td>15</td>\n",
       "      <td>8.0</td>\n",
       "    </tr>\n",
       "    <tr>\n",
       "      <th>1</th>\n",
       "      <td>44792</td>\n",
       "      <td>A02</td>\n",
       "      <td>Notebook</td>\n",
       "      <td>Bundle</td>\n",
       "      <td>5</td>\n",
       "      <td>25</td>\n",
       "      <td>15.0</td>\n",
       "    </tr>\n",
       "    <tr>\n",
       "      <th>2</th>\n",
       "      <td>44792</td>\n",
       "      <td>A03</td>\n",
       "      <td>Monitor</td>\n",
       "      <td>Box</td>\n",
       "      <td>5</td>\n",
       "      <td>185</td>\n",
       "      <td>3.0</td>\n",
       "    </tr>\n",
       "    <tr>\n",
       "      <th>3</th>\n",
       "      <td>44792</td>\n",
       "      <td>A03</td>\n",
       "      <td>Monitor</td>\n",
       "      <td>Box</td>\n",
       "      <td>2</td>\n",
       "      <td>185</td>\n",
       "      <td>NaN</td>\n",
       "    </tr>\n",
       "  </tbody>\n",
       "</table>\n",
       "</div>"
      ],
      "text/plain": [
       "    DATE CODES  PRODUCTS   UNITS  QTY  PRICE  STOCKS\n",
       "0  44792   A01       Pen     Box    2     15     8.0\n",
       "1  44792   A02  Notebook  Bundle    5     25    15.0\n",
       "2  44792   A03   Monitor     Box    5    185     3.0\n",
       "3  44792   A03   Monitor     Box    2    185     NaN"
      ]
     },
     "execution_count": 10,
     "metadata": {},
     "output_type": "execute_result"
    }
   ],
   "source": [
    "df3.head()"
   ]
  },
  {
   "cell_type": "code",
   "execution_count": null,
   "id": "b991c7ca-6309-4817-bd19-5f573983ed58",
   "metadata": {},
   "outputs": [],
   "source": []
  }
 ],
 "metadata": {
  "kernelspec": {
   "display_name": "Python 3 (ipykernel)",
   "language": "python",
   "name": "python3"
  },
  "language_info": {
   "codemirror_mode": {
    "name": "ipython",
    "version": 3
   },
   "file_extension": ".py",
   "mimetype": "text/x-python",
   "name": "python",
   "nbconvert_exporter": "python",
   "pygments_lexer": "ipython3",
   "version": "3.11.4"
  }
 },
 "nbformat": 4,
 "nbformat_minor": 5
}
